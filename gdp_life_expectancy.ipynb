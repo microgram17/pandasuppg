{
 "cells": [
  {
   "cell_type": "markdown",
   "metadata": {},
   "source": [
    "För G:\n",
    "1. Ladda ner ett eller flera dataset som visar GDP, GDP per capita och förväntad livslängd.\n",
    "2. Visa hur förväntad livslängd och GDP per capita hänger ihop. Välj själv och motivera hur detta ska visualiseras.\n",
    "3. Resonera kortfattat om resultaten verkar rimliga och fundera på om det finns någon orsak bakom ditt resultat.\n",
    "\n",
    "Svara nu på dessa frågor:\n",
    "4. Gjorde du någon Data Cleaning? Förklara vad du har gjort och motivera detta.\n",
    "5. Vilka länder har förväntad livslängd en standardavvikelse över medelvärdet?\n",
    "6. Vilka länder har hög förväntad livslängd men låg GDP/GDP per capita?\n",
    "7. Har varje stor ekonomi (GDP) lång förväntad livslängd?\n",
    "8. Om du ändrar definitionen av en stor ekonomi till GDP per capita. Hur förändras resultatet då? Diskutera kort resultatet i 7 och 8.\n"
   ]
  },
  {
   "cell_type": "code",
   "execution_count": null,
   "metadata": {},
   "outputs": [],
   "source": [
    "import pandas as pd\n",
    "import numpy as np\n",
    "import seaborn as sns\n",
    "from matplotlib import pyplot as plt\n",
    "\n",
    "gdp_data = pd.read_csv(\"gdp.csv\")\n",
    "life_expectancy_data = pd.read_csv(\"Life-Expectancy-Data-Updated.csv\")"
   ]
  },
  {
   "cell_type": "code",
   "execution_count": null,
   "metadata": {},
   "outputs": [],
   "source": [
    "df_gdp = gdp_data.drop(gdp_data.loc[:, '1960' : '2011'].columns, axis=1)\n",
    "df_gdp = df_gdp.drop(df_gdp.loc[:, '2016' : 'Unnamed: 65'].columns, axis=1)\n",
    "df_gdp = df_gdp.dropna(axis=0, thresh=6)\n",
    "\n",
    "df_life = life_expectancy_data.drop(life_expectancy_data[life_expectancy_data.Year < 2012].index)\n",
    "df_life = df_life.loc[:, ['Country','Year','Life_expectancy']]\n",
    "\n",
    "# df1 = df_capita[df_capita.isna().any(axis=1)]\n",
    "# df1.head(100)\n",
    "df_life"
   ]
  },
  {
   "cell_type": "code",
   "execution_count": null,
   "metadata": {},
   "outputs": [],
   "source": []
  },
  {
   "cell_type": "code",
   "execution_count": null,
   "metadata": {},
   "outputs": [],
   "source": []
  },
  {
   "cell_type": "code",
   "execution_count": null,
   "metadata": {},
   "outputs": [],
   "source": [
    "df_life_grouped = df_life.groupby('Country')['Life_expectancy'].mean().reset_index()\n",
    "\n",
    "mean_life_expectancy = df_life_grouped['Life_expectancy'].mean()\n",
    "std_dev_life_expectancy = df_life_grouped['Life_expectancy'].std()\n",
    "above_std_dev_countries = df_life_grouped[df_life_grouped['Life_expectancy'] > (mean_life_expectancy + std_dev_life_expectancy)]\n",
    "\n",
    "\n",
    "plt.figure(figsize=(10, 6))\n",
    "plt.title(\"Life expectancy above one standard deviation\")\n",
    "sns.barplot(x='Life_expectancy', y='Country', data=above_std_dev_countries)\n",
    "plt.axvline(x=mean_life_expectancy, color='red', linestyle='--', label='Global average Life expectancy')\n",
    "plt.ylabel(\"Countries\")\n",
    "plt.xlabel(\"Life expectancy\")\n",
    "plt.legend()\n",
    "plt.show()"
   ]
  }
 ],
 "metadata": {
  "kernelspec": {
   "display_name": "Python 3",
   "language": "python",
   "name": "python3"
  },
  "language_info": {
   "codemirror_mode": {
    "name": "ipython",
    "version": 3
   },
   "file_extension": ".py",
   "mimetype": "text/x-python",
   "name": "python",
   "nbconvert_exporter": "python",
   "pygments_lexer": "ipython3",
   "version": "3.12.1"
  }
 },
 "nbformat": 4,
 "nbformat_minor": 2
}
