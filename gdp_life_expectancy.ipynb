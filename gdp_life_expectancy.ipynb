{
 "cells": [
  {
   "cell_type": "markdown",
   "metadata": {},
   "source": [
    "För G:\n",
    "1. Ladda ner ett eller flera dataset som visar GDP, GDP per capita och förväntad livslängd.\n",
    "2. Visa hur förväntad livslängd och GDP per capita hänger ihop. Välj själv och motivera hur detta ska visualiseras.\n",
    "3. Resonera kortfattat om resultaten verkar rimliga och fundera på om det finns någon orsak bakom ditt resultat.\n",
    "\n",
    "Svara nu på dessa frågor:\n",
    "4. Gjorde du någon Data Cleaning? Förklara vad du har gjort och motivera detta.\n",
    "5. Vilka länder har förväntad livslängd en standardavvikelse över medelvärdet?\n",
    "6. Vilka länder har hög förväntad livslängd men låg GDP/GDP per capita?\n",
    "7. Har varje stor ekonomi (GDP) lång förväntad livslängd?\n",
    "8. Om du ändrar definitionen av en stor ekonomi till GDP per capita. Hur förändras resultatet då? Diskutera kort resultatet i 7 och 8. \n"
   ]
  },
  {
   "cell_type": "code",
   "execution_count": null,
   "metadata": {},
   "outputs": [],
   "source": [
    "import pandas as pd\n",
    "import seaborn as sns\n",
    "from matplotlib import pyplot as plt\n",
    "\n",
    "gdp_data = pd.read_csv(\"gdp.csv\")\n",
    "gdp_per_capita_data = pd.read_csv(\"gdp_per_capita.csv\")\n",
    "life_expectancy_data = pd.read_csv(\"Life-Expectancy-Data-Updated.csv\")"
   ]
  },
  {
   "cell_type": "code",
   "execution_count": null,
   "metadata": {},
   "outputs": [],
   "source": [
    "# Cleaning the data\n",
    "\n",
    "df_gdp = gdp_data.drop(gdp_data.loc[:, '1960' : '2011'].columns, axis=1)\n",
    "df_gdp = df_gdp.drop(df_gdp.loc[:, '2016' : 'Unnamed: 65'].columns, axis=1)\n",
    "\n",
    "df_gdp = df_gdp.dropna(axis = 0, thresh=6)\n",
    "\n",
    "df_capita = gdp_per_capita_data.drop(gdp_per_capita_data.loc[:, '1960' : '2011'].columns, axis=1)\n",
    "df_capita = df_capita.drop(df_capita.loc[:, '2016' : 'Unnamed: 65'].columns, axis=1)\n",
    "\n",
    "df_capita = df_capita.dropna(axis=0, thresh=6)\n",
    "\n",
    "df_life = life_expectancy_data.drop(life_expectancy_data[life_expectancy_data.Year < 2012].index)\n",
    "\n",
    "df_gdp"
   ]
  },
  {
   "cell_type": "code",
   "execution_count": null,
   "metadata": {},
   "outputs": [],
   "source": [
    "\n",
    "# Question 2\n",
    "\n",
    "sns.relplot(data=df_life, x=\"GDP_per_capita\", y=\"Life_expectancy\", col=\"Year\", \n",
    "            hue=\"Region\", style=\"Region\", col_wrap=2, alpha=.7, s=120)\n",
    "\n",
    "\"\"\"\n",
    "We use scatterplot to show the relation between life expectancy and GDP per capita.\n",
    "With a scatterplot we can show each country as a point where we asign its life expectancy and what GDP per capita it has.\n",
    "As we are using 4 different years this is also divided based on year to show the differance between each year.\n",
    "\"\"\"\n"
   ]
  },
  {
   "cell_type": "code",
   "execution_count": null,
   "metadata": {},
   "outputs": [],
   "source": [
    "\n",
    "# Question 7 (plot for only 2015)\n",
    "\n",
    "reduced_life_df = df_life.drop(df_life[df_life.Year != 2015].index)\n",
    "reduced_life_df = reduced_life_df.drop(reduced_life_df.loc[:, 'Infant_deaths' : 'Economy_status_Developing'].columns, axis=1)\n",
    "\n",
    "reduced_gdp_df = df_gdp.drop(df_gdp.loc[:, '2012' : '2014'].columns, axis=1)\n",
    "reduced_gdp_df = reduced_gdp_df.rename({'Country Name':'Country','2015':'GDP'}, axis=1)\n",
    "\n",
    "merged_df = reduced_life_df.merge(reduced_gdp_df, on='Country')\n",
    "\n",
    "sns.scatterplot(data=merged_df, x=\"GDP\", y=\"Life_expectancy\")\n"
   ]
  }
 ],
 "metadata": {
  "kernelspec": {
   "display_name": "Python 3",
   "language": "python",
   "name": "python3"
  },
  "language_info": {
   "codemirror_mode": {
    "name": "ipython",
    "version": 3
   },
   "file_extension": ".py",
   "mimetype": "text/x-python",
   "name": "python",
   "nbconvert_exporter": "python",
   "pygments_lexer": "ipython3",
   "version": "3.11.4"
  }
 },
 "nbformat": 4,
 "nbformat_minor": 2
}
