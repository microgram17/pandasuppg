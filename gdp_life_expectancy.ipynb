{
 "cells": [
  {
   "cell_type": "code",
   "execution_count": null,
   "metadata": {},
   "outputs": [],
   "source": [
    "import pandas as pd \n",
    "\n",
    "gdp = pd.read_csv(\"gdp_csv.csv\")"
   ]
  },
  {
   "cell_type": "code",
   "execution_count": null,
   "metadata": {},
   "outputs": [],
   "source": [
    "\"\"\" För G:\n",
    "Ladda ner ett eller flera dataset som visar GDP, GDP per capita och förväntad livslängd.\n",
    "Visa hur förväntad livslängd och GDP per capita hänger ihop. Välj själv och motivera hur detta ska visualiseras.\n",
    "Resonera kortfattat om resultaten verkar rimliga och fundera på om det finns någon orsak bakom ditt resultat.\n",
    "Svara nu på dessa frågor:\n",
    "Gjorde du någon Data Cleaning? Förklara vad du har gjort och motivera detta.\n",
    "Vilka länder har förväntad livslängd en standardavvikelse över medelvärdet?\n",
    "Vilka länder har hög förväntad livslängd men låg GDP/GDP per capita?\n",
    "Har varje stor ekonomi (GDP) lång förväntad livslängd?\n",
    "Om du ändrar definitionen av en stor ekonomi till GDP per capita. Hur förändras resultatet då? Diskutera kort resultatet i 7 och 8. \"\"\""
   ]
  }
 ],
 "metadata": {
  "language_info": {
   "name": "python"
  }
 },
 "nbformat": 4,
 "nbformat_minor": 2
}
