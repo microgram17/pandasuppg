{
 "cells": [
  {
   "cell_type": "markdown",
   "metadata": {},
   "source": [
    "För G:\n",
    "1. Ladda ner ett eller flera dataset som visar GDP, GDP per capita och förväntad livslängd.\n",
    "2. Visa hur förväntad livslängd och GDP per capita hänger ihop. Välj själv och motivera hur detta ska visualiseras.\n",
    "3. Resonera kortfattat om resultaten verkar rimliga och fundera på om det finns någon orsak bakom ditt resultat.\n",
    "\n",
    "Svara nu på dessa frågor:\n",
    "4. Gjorde du någon Data Cleaning? Förklara vad du har gjort och motivera detta.\n",
    "5. Vilka länder har förväntad livslängd en standardavvikelse över medelvärdet?\n",
    "6. Vilka länder har hög förväntad livslängd men låg GDP/GDP per capita?\n",
    "7. Har varje stor ekonomi (GDP) lång förväntad livslängd?\n",
    "8. Om du ändrar definitionen av en stor ekonomi till GDP per capita. Hur förändras resultatet då? Diskutera kort resultatet i 7 och 8. \n"
   ]
  },
  {
   "cell_type": "code",
   "execution_count": 1,
   "metadata": {},
   "outputs": [
    {
     "name": "stderr",
     "output_type": "stream",
     "text": [
      "C:\\Users\\Sergey\\AppData\\Local\\Temp\\ipykernel_15336\\1930874814.py:1: DeprecationWarning: \n",
      "Pyarrow will become a required dependency of pandas in the next major release of pandas (pandas 3.0),\n",
      "(to allow more performant data types, such as the Arrow string type, and better interoperability with other libraries)\n",
      "but was not found to be installed on your system.\n",
      "If this would cause problems for you,\n",
      "please provide us feedback at https://github.com/pandas-dev/pandas/issues/54466\n",
      "        \n",
      "  import pandas as pd\n"
     ]
    }
   ],
   "source": [
    "import pandas as pd \n",
    "\n",
    "gdp_data = pd.read_csv(\"gdp.csv\")\n",
    "gdp_per_capita_data = pd.read_csv(\"gdp_per_capita.csv\")\n",
    "life_expectancy_data = pd.read_csv(\"Life-Expectancy-Data-Updated.csv\")\n",
    "\n",
    "#this is a test"
   ]
  }
 ],
 "metadata": {
  "kernelspec": {
   "display_name": "Python 3",
   "language": "python",
   "name": "python3"
  },
  "language_info": {
   "codemirror_mode": {
    "name": "ipython",
    "version": 3
   },
   "file_extension": ".py",
   "mimetype": "text/x-python",
   "name": "python",
   "nbconvert_exporter": "python",
   "pygments_lexer": "ipython3",
   "version": "3.12.1"
  }
 },
 "nbformat": 4,
 "nbformat_minor": 2
}
