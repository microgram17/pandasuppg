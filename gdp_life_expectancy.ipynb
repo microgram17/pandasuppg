{
 "cells": [
  {
   "cell_type": "markdown",
   "metadata": {},
   "source": [
    "För G:\n",
    "1. Ladda ner ett eller flera dataset som visar GDP, GDP per capita och förväntad livslängd.\n",
    "2. Visa hur förväntad livslängd och GDP per capita hänger ihop. Välj själv och motivera hur detta ska visualiseras.\n",
    "3. Resonera kortfattat om resultaten verkar rimliga och fundera på om det finns någon orsak bakom ditt resultat.\n",
    "\n",
    "Svara nu på dessa frågor:\n",
    "4. Gjorde du någon Data Cleaning? Förklara vad du har gjort och motivera detta.\n",
    "5. Vilka länder har förväntad livslängd en standardavvikelse över medelvärdet?\n",
    "6. Vilka länder har hög förväntad livslängd men låg GDP/GDP per capita?\n",
    "7. Har varje stor ekonomi (GDP) lång förväntad livslängd?\n",
    "8. Om du ändrar definitionen av en stor ekonomi till GDP per capita. Hur förändras resultatet då? Diskutera kort resultatet i 7 och 8. \n",
    "\n"
   ]
  },
  {
   "cell_type": "code",
   "execution_count": 3,
   "metadata": {},
   "outputs": [
    {
     "name": "stderr",
     "output_type": "stream",
     "text": [
      "C:\\Users\\Sergey\\AppData\\Local\\Temp\\ipykernel_10960\\3894741307.py:1: DeprecationWarning: \n",
      "Pyarrow will become a required dependency of pandas in the next major release of pandas (pandas 3.0),\n",
      "(to allow more performant data types, such as the Arrow string type, and better interoperability with other libraries)\n",
      "but was not found to be installed on your system.\n",
      "If this would cause problems for you,\n",
      "please provide us feedback at https://github.com/pandas-dev/pandas/issues/54466\n",
      "        \n",
      "  import pandas as pd\n"
     ]
    }
   ],
   "source": [
    "import pandas as pd \n",
    "\n",
    "gdp_data = pd.read_csv(\"gdp.csv\")\n",
    "gdp_per_capita_data = pd.read_csv(\"gdp_per_capita.csv\")\n",
    "life_expectancy_data = pd.read_csv(\"Life-Expectancy-Data-Updated.csv\")\n"
   ]
  },
  {
   "cell_type": "code",
   "execution_count": 4,
   "metadata": {},
   "outputs": [
    {
     "data": {
      "text/html": [
       "<div>\n",
       "<style scoped>\n",
       "    .dataframe tbody tr th:only-of-type {\n",
       "        vertical-align: middle;\n",
       "    }\n",
       "\n",
       "    .dataframe tbody tr th {\n",
       "        vertical-align: top;\n",
       "    }\n",
       "\n",
       "    .dataframe thead th {\n",
       "        text-align: right;\n",
       "    }\n",
       "</style>\n",
       "<table border=\"1\" class=\"dataframe\">\n",
       "  <thead>\n",
       "    <tr style=\"text-align: right;\">\n",
       "      <th></th>\n",
       "      <th>Country Name</th>\n",
       "      <th>Code</th>\n",
       "      <th>2012</th>\n",
       "      <th>2013</th>\n",
       "      <th>2014</th>\n",
       "      <th>2015</th>\n",
       "    </tr>\n",
       "  </thead>\n",
       "  <tbody>\n",
       "    <tr>\n",
       "      <th>0</th>\n",
       "      <td>Aruba</td>\n",
       "      <td>ABW</td>\n",
       "      <td>2.534637e+09</td>\n",
       "      <td>2.727850e+09</td>\n",
       "      <td>2.790849e+09</td>\n",
       "      <td>2.962905e+09</td>\n",
       "    </tr>\n",
       "    <tr>\n",
       "      <th>1</th>\n",
       "      <td>Africa Eastern and Southern</td>\n",
       "      <td>AFE</td>\n",
       "      <td>9.505214e+11</td>\n",
       "      <td>9.642424e+11</td>\n",
       "      <td>9.848071e+11</td>\n",
       "      <td>9.199300e+11</td>\n",
       "    </tr>\n",
       "    <tr>\n",
       "      <th>2</th>\n",
       "      <td>Afghanistan</td>\n",
       "      <td>AFG</td>\n",
       "      <td>1.990732e+10</td>\n",
       "      <td>2.014640e+10</td>\n",
       "      <td>2.049713e+10</td>\n",
       "      <td>1.913421e+10</td>\n",
       "    </tr>\n",
       "    <tr>\n",
       "      <th>3</th>\n",
       "      <td>Africa Western and Central</td>\n",
       "      <td>AFW</td>\n",
       "      <td>7.275714e+11</td>\n",
       "      <td>8.207876e+11</td>\n",
       "      <td>8.649666e+11</td>\n",
       "      <td>7.607297e+11</td>\n",
       "    </tr>\n",
       "    <tr>\n",
       "      <th>4</th>\n",
       "      <td>Angola</td>\n",
       "      <td>AGO</td>\n",
       "      <td>1.280529e+11</td>\n",
       "      <td>1.367099e+11</td>\n",
       "      <td>1.457122e+11</td>\n",
       "      <td>1.161936e+11</td>\n",
       "    </tr>\n",
       "    <tr>\n",
       "      <th>...</th>\n",
       "      <td>...</td>\n",
       "      <td>...</td>\n",
       "      <td>...</td>\n",
       "      <td>...</td>\n",
       "      <td>...</td>\n",
       "      <td>...</td>\n",
       "    </tr>\n",
       "    <tr>\n",
       "      <th>261</th>\n",
       "      <td>Kosovo</td>\n",
       "      <td>XKX</td>\n",
       "      <td>6.163785e+09</td>\n",
       "      <td>6.735731e+09</td>\n",
       "      <td>7.074658e+09</td>\n",
       "      <td>6.295820e+09</td>\n",
       "    </tr>\n",
       "    <tr>\n",
       "      <th>262</th>\n",
       "      <td>Yemen, Rep.</td>\n",
       "      <td>YEM</td>\n",
       "      <td>3.540134e+10</td>\n",
       "      <td>4.041524e+10</td>\n",
       "      <td>4.322859e+10</td>\n",
       "      <td>4.244510e+10</td>\n",
       "    </tr>\n",
       "    <tr>\n",
       "      <th>263</th>\n",
       "      <td>South Africa</td>\n",
       "      <td>ZAF</td>\n",
       "      <td>4.344005e+11</td>\n",
       "      <td>4.008860e+11</td>\n",
       "      <td>3.811989e+11</td>\n",
       "      <td>3.467098e+11</td>\n",
       "    </tr>\n",
       "    <tr>\n",
       "      <th>264</th>\n",
       "      <td>Zambia</td>\n",
       "      <td>ZMB</td>\n",
       "      <td>2.550306e+10</td>\n",
       "      <td>2.803724e+10</td>\n",
       "      <td>2.714102e+10</td>\n",
       "      <td>2.125122e+10</td>\n",
       "    </tr>\n",
       "    <tr>\n",
       "      <th>265</th>\n",
       "      <td>Zimbabwe</td>\n",
       "      <td>ZWE</td>\n",
       "      <td>1.711485e+10</td>\n",
       "      <td>1.909102e+10</td>\n",
       "      <td>1.949552e+10</td>\n",
       "      <td>1.996312e+10</td>\n",
       "    </tr>\n",
       "  </tbody>\n",
       "</table>\n",
       "<p>266 rows × 6 columns</p>\n",
       "</div>"
      ],
      "text/plain": [
       "                    Country Name Code          2012          2013  \\\n",
       "0                          Aruba  ABW  2.534637e+09  2.727850e+09   \n",
       "1    Africa Eastern and Southern  AFE  9.505214e+11  9.642424e+11   \n",
       "2                    Afghanistan  AFG  1.990732e+10  2.014640e+10   \n",
       "3     Africa Western and Central  AFW  7.275714e+11  8.207876e+11   \n",
       "4                         Angola  AGO  1.280529e+11  1.367099e+11   \n",
       "..                           ...  ...           ...           ...   \n",
       "261                       Kosovo  XKX  6.163785e+09  6.735731e+09   \n",
       "262                  Yemen, Rep.  YEM  3.540134e+10  4.041524e+10   \n",
       "263                 South Africa  ZAF  4.344005e+11  4.008860e+11   \n",
       "264                       Zambia  ZMB  2.550306e+10  2.803724e+10   \n",
       "265                     Zimbabwe  ZWE  1.711485e+10  1.909102e+10   \n",
       "\n",
       "             2014          2015  \n",
       "0    2.790849e+09  2.962905e+09  \n",
       "1    9.848071e+11  9.199300e+11  \n",
       "2    2.049713e+10  1.913421e+10  \n",
       "3    8.649666e+11  7.607297e+11  \n",
       "4    1.457122e+11  1.161936e+11  \n",
       "..            ...           ...  \n",
       "261  7.074658e+09  6.295820e+09  \n",
       "262  4.322859e+10  4.244510e+10  \n",
       "263  3.811989e+11  3.467098e+11  \n",
       "264  2.714102e+10  2.125122e+10  \n",
       "265  1.949552e+10  1.996312e+10  \n",
       "\n",
       "[266 rows x 6 columns]"
      ]
     },
     "execution_count": 4,
     "metadata": {},
     "output_type": "execute_result"
    }
   ],
   "source": [
    "df_gdp = gdp_data.drop(gdp_data.loc[:, '1960' : '2011'].columns, axis=1)\n",
    "df_gdp = df_gdp.drop(df_gdp.loc[:, '2016' : 'Unnamed: 65'].columns, axis=1)\n",
    "\n",
    "df_capita = gdp_per_capita_data.drop(gdp_per_capita_data.loc[:, '1960' : '2011'].columns, axis=1)\n",
    "df_capita = df_capita.drop(df_capita.loc[:, '2016' : 'Unnamed: 65'].columns, axis=1)\n",
    "\n",
    "df_capita = df_capita.drop([\"Code\"], axis = 1)\n",
    "\n",
    "df_life = life_expectancy_data.drop(life_expectancy_data[life_expectancy_data.Year < 2012].index)\n",
    "\n",
    "# df_life.drop(df_life.iloc[:, 3:20],axis= 1, inplace= True)\n",
    "df_life = df_life.loc[:, [\"Country\",\"Year\", \"Life_expectancy\", \"GDP_per_capita\"]]\n",
    "\n",
    "\n",
    "\n",
    "df_gdp\n"
   ]
  },
  {
   "cell_type": "code",
   "execution_count": 5,
   "metadata": {},
   "outputs": [],
   "source": [
    "\n",
    "df_gdp = df_gdp.dropna(axis= 0, thresh = 6) \n",
    "\n",
    "df_capita = df_capita.dropna(axis = 0 , thresh = 6)\n",
    "\n"
   ]
  },
  {
   "cell_type": "code",
   "execution_count": 6,
   "metadata": {},
   "outputs": [],
   "source": [
    "# joined = pd.concat([df_capita,df_life ], axis= 1)\n",
    "# joined.groupby(\"Country Name\")[\"Life_expectancy\"].max().reset_index()\n"
   ]
  },
  {
   "cell_type": "code",
   "execution_count": 7,
   "metadata": {},
   "outputs": [],
   "source": [
    "# df_life_sorted = df_life.groupby(\"Country\")[[\"Life_expectancy\",\"GDP_per_capita\"]].mean()\n",
    "# df_life_sorted.sort_values([\"Life-Expectancy\"], ascending = [False])\n"
   ]
  },
  {
   "cell_type": "code",
   "execution_count": 8,
   "metadata": {},
   "outputs": [
    {
     "data": {
      "text/plain": [
       "12308.27094972067"
      ]
     },
     "execution_count": 8,
     "metadata": {},
     "output_type": "execute_result"
    }
   ],
   "source": [
    "df_life.groupby(\"Country\")[\"Life_expectancy\"].mean().reset_index()\n",
    "df_average_life = df_life.loc[:, \"Life_expectancy\"].mean()\n",
    "df_average_gdp_capita = df_life.loc[:, \"GDP_per_capita\"].mean()\n",
    "#df_average_gdp = df_gdp.loc[:, \"GDP_per_capita\"].mean()\n",
    "\n",
    "df_average_gdp_capita\n"
   ]
  },
  {
   "cell_type": "code",
   "execution_count": 21,
   "metadata": {},
   "outputs": [
    {
     "data": {
      "text/plain": [
       "<Axes: xlabel='Year'>"
      ]
     },
     "execution_count": 21,
     "metadata": {},
     "output_type": "execute_result"
    },
    {
     "data": {
      "image/png": "[encoded data removed]",
      "text/plain": [
       "<Figure size 640x480 with 1 Axes>"
      ]
     },
     "metadata": {},
     "output_type": "display_data"
    }
   ],
   "source": [
    "import matplotlib.pyplot as plt\n",
    "\n",
    "df_filter = df_life[(df_life[\"Life_expectancy\"] > 80) & (df_life[\"GDP_per_capita\"]>=800) & (df_life[\"GDP_per_capita\"]<19000)]\n",
    "sort_df = df_filter.sort_values(\"GDP_per_capita\", ascending= [True])\n",
    "\n",
    "\n",
    "df_gdp = df_gdp.rename(columns={\"Country Name\": \"Country\"})\n",
    "merg_df = sort_df.merge(df_gdp, on=\"Country\", how=\"inner\")\n",
    "merg_df\n",
    "\n",
    "merg_df.plot(y = [\"Life_expectancy\", \"Country\"], x = \"Year\", kind= \"bar\", rot= 5, fontsize = 4)\n",
    "\n"
   ]
  }
 ],
 "metadata": {
  "kernelspec": {
   "display_name": "Python 3",
   "language": "python",
   "name": "python3"
  },
  "language_info": {
   "codemirror_mode": {
    "name": "ipython",
    "version": 3
   },
   "file_extension": ".py",
   "mimetype": "text/x-python",
   "name": "python",
   "nbconvert_exporter": "python",
   "pygments_lexer": "ipython3",
   "version": "3.12.1"
  }
 },
 "nbformat": 4,
 "nbformat_minor": 2
}
